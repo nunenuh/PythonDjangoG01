{
 "cells": [
  {
   "cell_type": "code",
   "execution_count": 5,
   "metadata": {},
   "outputs": [],
   "source": [
    "from member.views import *\n",
    "from django.test import RequestFactory"
   ]
  },
  {
   "cell_type": "code",
   "execution_count": 6,
   "metadata": {},
   "outputs": [],
   "source": [
    "request_factory = RequestFactory()\n",
    "url = '/member/test' # REPLACE WITH YOUR URL\n",
    "request = request_factory.get(url)"
   ]
  },
  {
   "cell_type": "code",
   "execution_count": 13,
   "metadata": {},
   "outputs": [
    {
     "name": "stdout",
     "output_type": "stream",
     "text": [
      "b'<h1>Test</h1>'\n"
     ]
    }
   ],
   "source": [
    "response = TestView.as_view()(request) # REPLACE WITH YOUR VIEW\n",
    "print(response.content)"
   ]
  },
  {
   "cell_type": "code",
   "execution_count": 15,
   "metadata": {},
   "outputs": [],
   "source": [
    "request_factory = RequestFactory()\n",
    "url = '/member/tpl' # REPLACE WITH YOUR URL\n",
    "request = request_factory.get(url)"
   ]
  },
  {
   "cell_type": "code",
   "execution_count": 19,
   "metadata": {},
   "outputs": [
    {
     "name": "stdout",
     "output_type": "stream",
     "text": [
      "b'<h1>Hai ini template</h1>\\n\\nIni Text dari View <br/>\\n[1, 2, 3, 4] <br>\\n\\nformatnyta url \\'namespace:name\\'  <br>\\n/member/test <br>    \\n<a href=\"/member/test\">Link</a>\\n\\n\\n    <b>Logika Anda benar</b>\\n\\n<br>\\n\\n\\n\\n1 <br>\\n\\n\\n\\n2 <br>\\n\\n\\n\\n3 <br>\\n\\n\\n\\n4 <br>\\n\\n'\n"
     ]
    }
   ],
   "source": [
    "response = TestTplView.as_view()(request) \n",
    "print(response.content)"
   ]
  },
  {
   "cell_type": "code",
   "execution_count": null,
   "metadata": {},
   "outputs": [],
   "source": []
  }
 ],
 "metadata": {
  "kernelspec": {
   "display_name": "Django Shell-Plus",
   "language": "python",
   "name": "django_extensions"
  },
  "language_info": {
   "codemirror_mode": {
    "name": "ipython",
    "version": 3
   },
   "file_extension": ".py",
   "mimetype": "text/x-python",
   "name": "python",
   "nbconvert_exporter": "python",
   "pygments_lexer": "ipython3",
   "version": "3.5.4"
  }
 },
 "nbformat": 4,
 "nbformat_minor": 2
}
