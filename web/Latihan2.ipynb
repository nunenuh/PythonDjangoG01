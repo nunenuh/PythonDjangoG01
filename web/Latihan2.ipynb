{
 "cells": [
  {
   "cell_type": "code",
   "execution_count": 1,
   "metadata": {},
   "outputs": [],
   "source": [
    "from django.contrib.auth.models import User\n",
    "from orm.models import Member, Club, CityDistrict"
   ]
  },
  {
   "cell_type": "code",
   "execution_count": 2,
   "metadata": {},
   "outputs": [],
   "source": [
    "cd = CityDistrict()\n",
    "cd.name = 'Mataram'\n",
    "cd.save()"
   ]
  },
  {
   "cell_type": "code",
   "execution_count": 3,
   "metadata": {},
   "outputs": [],
   "source": [
    "cd = CityDistrict()\n",
    "cd.name = 'Lombok Barat'\n",
    "cd.save()"
   ]
  },
  {
   "cell_type": "code",
   "execution_count": 4,
   "metadata": {},
   "outputs": [],
   "source": [
    "cd = CityDistrict()\n",
    "cd.name = 'Lombok Timur'\n",
    "cd.save()"
   ]
  },
  {
   "cell_type": "code",
   "execution_count": 9,
   "metadata": {},
   "outputs": [
    {
     "data": {
      "text/plain": [
       "<CityDistrict: Mataram>"
      ]
     },
     "execution_count": 9,
     "metadata": {},
     "output_type": "execute_result"
    }
   ],
   "source": [
    "ct = CityDistrict.objects.filter(name='Mataram').first()\n",
    "ct"
   ]
  },
  {
   "cell_type": "code",
   "execution_count": 10,
   "metadata": {},
   "outputs": [],
   "source": [
    "cl = Club()\n",
    "cl.name = 'Arrihu Archery'\n",
    "cl.register_number = '2258195'\n",
    "cl.since = '2016'\n",
    "cl.secretariat = 'Jln. Musium No 19 A'\n",
    "cl.city_district = ct\n",
    "cl.leader = 'Lalu Erfandi Maula Yusnu'\n",
    "cl.slogan = 'Ayo Memanah Ayo Hidupkan Sunnah'\n",
    "cl.save()\n"
   ]
  },
  {
   "cell_type": "code",
   "execution_count": 12,
   "metadata": {},
   "outputs": [
    {
     "data": {
      "text/plain": [
       "<User: fandi>"
      ]
     },
     "execution_count": 12,
     "metadata": {},
     "output_type": "execute_result"
    }
   ],
   "source": [
    "u = User.objects.filter(username='fandi').first()\n",
    "u"
   ]
  },
  {
   "cell_type": "code",
   "execution_count": 13,
   "metadata": {},
   "outputs": [],
   "source": [
    "m = Member()\n",
    "m.user = u\n",
    "m.club = cl\n",
    "\n",
    "m.name = 'Lalu Erfandi Maula Yusnu'\n",
    "m.adress = 'Mataram'\n",
    "m.gender = 'Pria'\n",
    "m.save()"
   ]
  },
  {
   "cell_type": "code",
   "execution_count": 14,
   "metadata": {},
   "outputs": [
    {
     "data": {
      "text/plain": [
       "<Member: Lalu Erfandi Maula Yusnu>"
      ]
     },
     "execution_count": 14,
     "metadata": {},
     "output_type": "execute_result"
    }
   ],
   "source": [
    "m"
   ]
  },
  {
   "cell_type": "code",
   "execution_count": 15,
   "metadata": {},
   "outputs": [
    {
     "data": {
      "text/plain": [
       "<Club: Arrihu Archery>"
      ]
     },
     "execution_count": 15,
     "metadata": {},
     "output_type": "execute_result"
    }
   ],
   "source": [
    "m.club"
   ]
  },
  {
   "cell_type": "code",
   "execution_count": 16,
   "metadata": {},
   "outputs": [
    {
     "data": {
      "text/plain": [
       "<CityDistrict: Mataram>"
      ]
     },
     "execution_count": 16,
     "metadata": {},
     "output_type": "execute_result"
    }
   ],
   "source": [
    "m.club.city_district"
   ]
  },
  {
   "cell_type": "code",
   "execution_count": 20,
   "metadata": {},
   "outputs": [
    {
     "name": "stdout",
     "output_type": "stream",
     "text": [
      "Mataram\n"
     ]
    }
   ],
   "source": [
    "\n",
    "name = m.name\n",
    "gender = m.gender\n",
    "club_name = m.club.name\n",
    "ctdt = m.club.city_district.name\n",
    "\n",
    "print(ctdt)"
   ]
  },
  {
   "cell_type": "code",
   "execution_count": null,
   "metadata": {},
   "outputs": [],
   "source": []
  }
 ],
 "metadata": {
  "kernelspec": {
   "display_name": "Django Shell-Plus",
   "language": "python",
   "name": "django_extensions"
  },
  "language_info": {
   "codemirror_mode": {
    "name": "ipython",
    "version": 3
   },
   "file_extension": ".py",
   "mimetype": "text/x-python",
   "name": "python",
   "nbconvert_exporter": "python",
   "pygments_lexer": "ipython3",
   "version": "3.5.4"
  }
 },
 "nbformat": 4,
 "nbformat_minor": 2
}
